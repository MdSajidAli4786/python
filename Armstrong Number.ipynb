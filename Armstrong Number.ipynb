{
 "cells": [
  {
   "cell_type": "code",
   "execution_count": 10,
   "id": "a69c4276",
   "metadata": {},
   "outputs": [
    {
     "name": "stdout",
     "output_type": "stream",
     "text": [
      "enter a number :407\n",
      "The Number is An Armstrong Number 407\n"
     ]
    }
   ],
   "source": [
    "#Armstrong number\n",
    "num = int(input(\"enter a number :\"))\n",
    "var=num\n",
    "sum = 0\n",
    "while num>0 :\n",
    "    n = num%10\n",
    "    sum += n**3\n",
    "    num = num//10\n",
    "if var==sum :\n",
    "    print(\"The Number is An Armstrong Number\",sum)\n",
    "else :\n",
    "    print(\"Not An Armstrong Number\",sum)"
   ]
  },
  {
   "cell_type": "markdown",
   "id": "cc2b14d2",
   "metadata": {},
   "source": []
  },
  {
   "cell_type": "code",
   "execution_count": null,
   "id": "223450b0",
   "metadata": {},
   "outputs": [],
   "source": []
  }
 ],
 "metadata": {
  "kernelspec": {
   "display_name": "Python 3",
   "language": "python",
   "name": "python3"
  },
  "language_info": {
   "codemirror_mode": {
    "name": "ipython",
    "version": 3
   },
   "file_extension": ".py",
   "mimetype": "text/x-python",
   "name": "python",
   "nbconvert_exporter": "python",
   "pygments_lexer": "ipython3",
   "version": "3.8.10"
  }
 },
 "nbformat": 4,
 "nbformat_minor": 5
}
