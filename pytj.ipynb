{
 "cells": [
  {
   "cell_type": "code",
   "execution_count": 8,
   "id": "e5fe449b",
   "metadata": {},
   "outputs": [
    {
     "name": "stdout",
     "output_type": "stream",
     "text": [
      "3800\n",
      "hello\tDIVINE AI\n",
      "hello\tDIVINE AI\n",
      "hello\tDIVINE AI\n",
      "hello\tDIVINE AI\n",
      "hello\tDIVINE AI\n",
      "\n"
     ]
    }
   ],
   "source": [
    "a=45\n",
    "b=7\n",
    "print(100*(int(a)-int(b)))\n",
    "print(5*(\"hello\"+\"\\tDIVINE AI\\n\"))\n",
    "\n",
    "\n",
    "\n"
   ]
  },
  {
   "cell_type": "code",
   "execution_count": 21,
   "id": "da06a65a",
   "metadata": {},
   "outputs": [
    {
     "name": "stdout",
     "output_type": "stream",
     "text": [
      "Enter a Number32\n",
      "check whether the number is Even or Odd\n",
      "the Number is Even\n"
     ]
    }
   ],
   "source": [
    "no=int(input(\"Enter a Number\"))\n",
    "print(\"check whether the number is Even or Odd\")\n",
    "if(no%2==0):\n",
    "   print(\"the Number is Even\")\n",
    "else:\n",
    "   print(\"the Number is odd\")"
   ]
  },
  {
   "cell_type": "code",
   "execution_count": 37,
   "id": "fd413132",
   "metadata": {},
   "outputs": [
    {
     "name": "stdout",
     "output_type": "stream",
     "text": [
      "HCEIDA\n",
      "AIDNIYEKCOH\n",
      "ADIEC\n",
      "CYD\n",
      "ANE\n"
     ]
    }
   ],
   "source": [
    "TO=\"HOCKEYINDIA\"\n",
    "print(TO[::2])\n",
    "print(TO[::-1])\n",
    "print(TO[10:0:-2])\n",
    "print(TO[2:9:3])\n",
    "print(TO[10:2:-3])"
   ]
  },
  {
   "cell_type": "markdown",
   "id": "103de1d9",
   "metadata": {},
   "source": []
  },
  {
   "cell_type": "code",
   "execution_count": 30,
   "id": "34817184",
   "metadata": {},
   "outputs": [
    {
     "name": "stdout",
     "output_type": "stream",
     "text": [
      "enter a number:121\n",
      "check whether a number is palindrome or not\n",
      "\n",
      "not palindrome\n"
     ]
    }
   ],
   "source": [
    "n=int(input(\"enter a number:\\n\"))\n",
    "print(\"check whether a number is palindrome or not\\n\")\n",
    "c=n\n",
    "b=0\n",
    "while(n>0):\n",
    "    a=n%10\n",
    "    b=b*10+a\n",
    "    n=n//10\n",
    "if(c==b):\n",
    "   print(\"the number is palindrome\")\n",
    "else:\n",
    "   print(\"not palindrome\")"
   ]
  },
  {
   "cell_type": "code",
   "execution_count": null,
   "id": "28641f01",
   "metadata": {},
   "outputs": [],
   "source": []
  }
 ],
 "metadata": {
  "kernelspec": {
   "display_name": "Python 3",
   "language": "python",
   "name": "python3"
  },
  "language_info": {
   "codemirror_mode": {
    "name": "ipython",
    "version": 3
   },
   "file_extension": ".py",
   "mimetype": "text/x-python",
   "name": "python",
   "nbconvert_exporter": "python",
   "pygments_lexer": "ipython3",
   "version": "3.8.10"
  }
 },
 "nbformat": 4,
 "nbformat_minor": 5
}
