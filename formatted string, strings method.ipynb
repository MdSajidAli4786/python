{
 "cells": [
  {
   "cell_type": "code",
   "execution_count": 5,
   "id": "506849da",
   "metadata": {},
   "outputs": [
    {
     "name": "stdout",
     "output_type": "stream",
     "text": [
      "Mohammed Sajid Ali\n",
      "8 5 3\n"
     ]
    }
   ],
   "source": [
    "first = \"Mohammed\"\n",
    "second = \"Sajid\"\n",
    "third = \"Ali\"\n",
    "print(f\"{first} {second} {third}\")\n",
    "full = f\"{len(first)} {len(second)} {len(third)}\"\n",
    "print(full)"
   ]
  },
  {
   "cell_type": "code",
   "execution_count": 2,
   "id": "8ddf506a",
   "metadata": {},
   "outputs": [],
   "source": [
    "name= \"Mohammed Sajid Ali\""
   ]
  },
  {
   "cell_type": "code",
   "execution_count": 3,
   "id": "fc8d4096",
   "metadata": {},
   "outputs": [
    {
     "name": "stdout",
     "output_type": "stream",
     "text": [
      "MOHAMMED SAJID ALI\n"
     ]
    }
   ],
   "source": [
    "print(name.upper())"
   ]
  },
  {
   "cell_type": "code",
   "execution_count": 4,
   "id": "fe528603",
   "metadata": {},
   "outputs": [
    {
     "name": "stdout",
     "output_type": "stream",
     "text": [
      "mohammed sajid ali\n"
     ]
    }
   ],
   "source": [
    "print(name.lower())"
   ]
  },
  {
   "cell_type": "code",
   "execution_count": 5,
   "id": "7335349f",
   "metadata": {},
   "outputs": [
    {
     "name": "stdout",
     "output_type": "stream",
     "text": [
      "Mohammed Sajid Ali\n"
     ]
    }
   ],
   "source": [
    "print(name.title())"
   ]
  },
  {
   "cell_type": "code",
   "execution_count": 6,
   "id": "1eb65fea",
   "metadata": {},
   "outputs": [
    {
     "name": "stdout",
     "output_type": "stream",
     "text": [
      "-1\n"
     ]
    }
   ],
   "source": [
    "print(name.find(\"saj\"))"
   ]
  },
  {
   "cell_type": "code",
   "execution_count": 8,
   "id": "4cea066e",
   "metadata": {},
   "outputs": [
    {
     "name": "stdout",
     "output_type": "stream",
     "text": [
      "9\n"
     ]
    }
   ],
   "source": [
    "print(name.find(\"Saj\"))"
   ]
  },
  {
   "cell_type": "code",
   "execution_count": 9,
   "id": "8e2e5df4",
   "metadata": {},
   "outputs": [
    {
     "name": "stdout",
     "output_type": "stream",
     "text": [
      "Mohammed Sajid Khan\n"
     ]
    }
   ],
   "source": [
    "print(name.replace(\"Ali\",\"Khan\"))"
   ]
  },
  {
   "cell_type": "code",
   "execution_count": 10,
   "id": "351223ef",
   "metadata": {},
   "outputs": [
    {
     "name": "stdout",
     "output_type": "stream",
     "text": [
      "True\n"
     ]
    }
   ],
   "source": [
    "print(\"Khan\" not in name)"
   ]
  },
  {
   "cell_type": "code",
   "execution_count": null,
   "id": "79e1f715",
   "metadata": {},
   "outputs": [],
   "source": []
  }
 ],
 "metadata": {
  "kernelspec": {
   "display_name": "Python 3",
   "language": "python",
   "name": "python3"
  },
  "language_info": {
   "codemirror_mode": {
    "name": "ipython",
    "version": 3
   },
   "file_extension": ".py",
   "mimetype": "text/x-python",
   "name": "python",
   "nbconvert_exporter": "python",
   "pygments_lexer": "ipython3",
   "version": "3.8.10"
  }
 },
 "nbformat": 4,
 "nbformat_minor": 5
}
