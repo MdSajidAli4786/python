{
 "cells": [
  {
   "cell_type": "code",
   "execution_count": 5,
   "id": "e30831e5",
   "metadata": {},
   "outputs": [
    {
     "name": "stdout",
     "output_type": "stream",
     "text": [
      "Enter a Number-632\n",
      "number is negative -632\n"
     ]
    }
   ],
   "source": [
    "#check whether a number is positive ,negative or zero\n",
    "num = int(input(\"Enter a Number\"))\n",
    "if num>0 : \n",
    "    print(\"number is positive:\",num)\n",
    "elif num<0 : \n",
    "    print(\"number is negative:\",num)\n",
    "else :\n",
    "    print(\"number is zero:\",num)"
   ]
  },
  {
   "cell_type": "code",
   "execution_count": null,
   "id": "90728af0",
   "metadata": {},
   "outputs": [],
   "source": []
  },
  {
   "cell_type": "code",
   "execution_count": null,
   "id": "06b4ee4d",
   "metadata": {},
   "outputs": [],
   "source": []
  }
 ],
 "metadata": {
  "kernelspec": {
   "display_name": "Python 3",
   "language": "python",
   "name": "python3"
  },
  "language_info": {
   "codemirror_mode": {
    "name": "ipython",
    "version": 3
   },
   "file_extension": ".py",
   "mimetype": "text/x-python",
   "name": "python",
   "nbconvert_exporter": "python",
   "pygments_lexer": "ipython3",
   "version": "3.8.10"
  }
 },
 "nbformat": 4,
 "nbformat_minor": 5
}
