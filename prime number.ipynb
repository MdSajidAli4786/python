{
 "cells": [
  {
   "cell_type": "code",
   "execution_count": 3,
   "id": "b82f6152",
   "metadata": {},
   "outputs": [
    {
     "name": "stdout",
     "output_type": "stream",
     "text": [
      "enter a number :11\n",
      "the number is prime: 11\n"
     ]
    }
   ],
   "source": [
    "#check whether a  number is prime or not\n",
    "no = int(input(\"enter a number :\"))\n",
    "count=0\n",
    "for i in range(1,no):\n",
    "    if (no%i == 0):\n",
    "        count += 1\n",
    "if count==1:\n",
    "    print(\"the number is prime:\",no)\n",
    "else:\n",
    "    print(\"not a prime:\",no)\n"
   ]
  },
  {
   "cell_type": "code",
   "execution_count": null,
   "id": "ecee7571",
   "metadata": {},
   "outputs": [],
   "source": []
  },
  {
   "cell_type": "code",
   "execution_count": null,
   "id": "52040bbf",
   "metadata": {},
   "outputs": [],
   "source": []
  }
 ],
 "metadata": {
  "kernelspec": {
   "display_name": "Python 3",
   "language": "python",
   "name": "python3"
  },
  "language_info": {
   "codemirror_mode": {
    "name": "ipython",
    "version": 3
   },
   "file_extension": ".py",
   "mimetype": "text/x-python",
   "name": "python",
   "nbconvert_exporter": "python",
   "pygments_lexer": "ipython3",
   "version": "3.8.10"
  }
 },
 "nbformat": 4,
 "nbformat_minor": 5
}
