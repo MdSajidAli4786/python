{
 "cells": [
  {
   "cell_type": "code",
   "execution_count": 9,
   "id": "f652ea80",
   "metadata": {},
   "outputs": [
    {
     "name": "stdout",
     "output_type": "stream",
     "text": [
      "*  *  *  *   \n",
      "  *  *  *   \n",
      "   *  *   \n",
      "    *   \n"
     ]
    }
   ],
   "source": [
    "#print reverse pyramid using if-else and for loop\n",
    "k=4\n",
    "for i in range(0,4):\n",
    "    if i==1:\n",
    "        print(\" \",end=\" \")\n",
    "    elif i==2:\n",
    "        print(\"  \",end=\" \")\n",
    "    elif i==3:\n",
    "        print(\"   \",end=\" \")\n",
    "    for j in range(0,k):\n",
    "        print(\"* \",end=\" \")\n",
    "    print(\" \")\n",
    "    k=k-1"
   ]
  },
  {
   "cell_type": "code",
   "execution_count": 34,
   "id": "49d2e881",
   "metadata": {},
   "outputs": [
    {
     "name": "stdout",
     "output_type": "stream",
     "text": [
      "   * \n",
      "  * * \n",
      " * * * \n",
      "* * * * \n",
      " * * * \n",
      "  * * \n",
      "   * \n"
     ]
    }
   ],
   "source": [
    "#print daimond shape using if-else and loops\n",
    "c=3\n",
    "a=1\n",
    "for i in range(0,7):\n",
    "    for j in range(0,c):\n",
    "        print(end=\" \")\n",
    "    if i<4:\n",
    "        for j in range(0,i+1):\n",
    "            print(\"*\",end=' ')\n",
    "    else:\n",
    "        for j in range(0,i-a):\n",
    "            print(\"*\",end=\" \")\n",
    "        a=a+2         \n",
    "    print()\n",
    "    if c==0:\n",
    "        c=2 \n",
    "    if i<4:\n",
    "        c=c-1\n",
    "    if i>=4:\n",
    "        c=c+1"
   ]
  },
  {
   "cell_type": "code",
   "execution_count": 14,
   "id": "e2e57823",
   "metadata": {},
   "outputs": [
    {
     "name": "stdout",
     "output_type": "stream",
     "text": [
      "* \n",
      "*  * \n",
      "*    * \n",
      "*       * \n",
      "* * * * *  * \n"
     ]
    }
   ],
   "source": [
    "#print hollow right angle triangle using if-elif-else and for loop\n",
    "k=0\n",
    "for i in range(0,5):\n",
    "    print(\"*\",end=\" \")\n",
    "    for c in range(0,k):\n",
    "        if i<4:\n",
    "            print(\" \"*c,end=\" \")\n",
    "        elif i==4 and c==k-1:\n",
    "            print(\"* \"*k,end=\" \")\n",
    "    for j in range(0,5):\n",
    "        if i==j and i>0:\n",
    "            print(\"*\",end=\" \")\n",
    "    print()\n",
    "    k=k+1"
   ]
  },
  {
   "cell_type": "code",
   "execution_count": 16,
   "id": "11039fc3",
   "metadata": {},
   "outputs": [
    {
     "name": "stdout",
     "output_type": "stream",
     "text": [
      "1 \n",
      "2 3 \n",
      "4 5 6 \n",
      "7 8 9 10 \n"
     ]
    }
   ],
   "source": [
    "b=1\n",
    "for i in range(0,4):\n",
    "    for j in range(0,i+1):\n",
    "        print(b,end=\" \")\n",
    "        b=b+1\n",
    "    print()\n",
    "        "
   ]
  },
  {
   "cell_type": "code",
   "execution_count": null,
   "id": "50824a56",
   "metadata": {},
   "outputs": [],
   "source": []
  },
  {
   "cell_type": "code",
   "execution_count": null,
   "id": "34e16f64",
   "metadata": {},
   "outputs": [],
   "source": []
  }
 ],
 "metadata": {
  "kernelspec": {
   "display_name": "Python 3",
   "language": "python",
   "name": "python3"
  },
  "language_info": {
   "codemirror_mode": {
    "name": "ipython",
    "version": 3
   },
   "file_extension": ".py",
   "mimetype": "text/x-python",
   "name": "python",
   "nbconvert_exporter": "python",
   "pygments_lexer": "ipython3",
   "version": "3.8.10"
  }
 },
 "nbformat": 4,
 "nbformat_minor": 5
}
