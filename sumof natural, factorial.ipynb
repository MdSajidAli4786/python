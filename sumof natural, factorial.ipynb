{
 "cells": [
  {
   "cell_type": "code",
   "execution_count": 1,
   "id": "4b90ba36",
   "metadata": {},
   "outputs": [
    {
     "name": "stdout",
     "output_type": "stream",
     "text": [
      "Enter number of natural numbers to be added100\n",
      "sum of n natural numbers are= 5050\n"
     ]
    }
   ],
   "source": [
    "n = int(input(\"Enter number of natural numbers to be added\"))\n",
    "if (n<0):\n",
    "    print(\"enter the positive number\")\n",
    "else:\n",
    "    sum=0\n",
    "while(n>0):\n",
    "    sum = sum + n\n",
    "    n-=1\n",
    "print(\"sum of n natural numbers are=\",sum)"
   ]
  },
  {
   "cell_type": "code",
   "execution_count": 2,
   "id": "8f61857f",
   "metadata": {},
   "outputs": [
    {
     "name": "stdout",
     "output_type": "stream",
     "text": [
      "enter the number5\n",
      "the factorial of the given number is 120\n"
     ]
    }
   ],
   "source": [
    "n = int(input(\"enter the number\"))\n",
    "fact=1\n",
    "while(n>0):\n",
    "    fact=fact*n\n",
    "    n-=1\n",
    "print( \"the factorial of the given number is\",fact)     \n"
   ]
  },
  {
   "cell_type": "code",
   "execution_count": null,
   "id": "4435f312",
   "metadata": {},
   "outputs": [],
   "source": []
  }
 ],
 "metadata": {
  "kernelspec": {
   "display_name": "Python 3",
   "language": "python",
   "name": "python3"
  },
  "language_info": {
   "codemirror_mode": {
    "name": "ipython",
    "version": 3
   },
   "file_extension": ".py",
   "mimetype": "text/x-python",
   "name": "python",
   "nbconvert_exporter": "python",
   "pygments_lexer": "ipython3",
   "version": "3.8.10"
  }
 },
 "nbformat": 4,
 "nbformat_minor": 5
}
