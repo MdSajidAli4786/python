{
 "cells": [
  {
   "cell_type": "code",
   "execution_count": 2,
   "id": "e69bb8e9",
   "metadata": {},
   "outputs": [
    {
     "name": "stdout",
     "output_type": "stream",
     "text": [
      "p \n",
      "p y \n",
      "p y t \n",
      "p y t h \n",
      "p y t h o \n",
      "p y t h o n \n"
     ]
    }
   ],
   "source": [
    "#patterns python\n",
    "list=['p','y','t','h','o','n']\n",
    "for i in range(0,6):\n",
    "    for j in range(0,i+1):\n",
    "        print(list[j],end=\" \")\n",
    "    print()\n",
    "        "
   ]
  },
  {
   "cell_type": "code",
   "execution_count": 18,
   "id": "223194be",
   "metadata": {},
   "outputs": [
    {
     "name": "stdout",
     "output_type": "stream",
     "text": [
      "   * \n",
      "  * * \n",
      " *   *   \n",
      "* * * * \n"
     ]
    }
   ],
   "source": [
    "#hollow triangle\n",
    "n=4\n",
    "for i in range(0,n):\n",
    "    if i!=2:\n",
    "        print(\" \"*(n-i-1)+ \"* \"*(i+1))\n",
    "    else:\n",
    "        print(\" \"*(n-i-1)+ \"*   \"*(i))\n",
    "        \n"
   ]
  },
  {
   "cell_type": "code",
   "execution_count": 24,
   "id": "cc66277c",
   "metadata": {},
   "outputs": [
    {
     "name": "stdout",
     "output_type": "stream",
     "text": [
      " ** ** \n",
      "*  *  *\n",
      "*     *\n",
      " *   * \n",
      "  * *  \n",
      "   *   \n"
     ]
    }
   ],
   "source": [
    "#print heart shape\n",
    "for i in range(6):\n",
    "    for j in range(7):\n",
    "        if(i==0 and j%3!=0)or(i==1 and j%3==0)or(i-j==2)or(i+j==8):\n",
    "            print(\"*\",end=\"\")\n",
    "        else:\n",
    "            print(end=\" \")\n",
    "    print()"
   ]
  },
  {
   "cell_type": "code",
   "execution_count": null,
   "id": "52b195a3",
   "metadata": {},
   "outputs": [],
   "source": []
  }
 ],
 "metadata": {
  "kernelspec": {
   "display_name": "Python 3",
   "language": "python",
   "name": "python3"
  },
  "language_info": {
   "codemirror_mode": {
    "name": "ipython",
    "version": 3
   },
   "file_extension": ".py",
   "mimetype": "text/x-python",
   "name": "python",
   "nbconvert_exporter": "python",
   "pygments_lexer": "ipython3",
   "version": "3.8.10"
  }
 },
 "nbformat": 4,
 "nbformat_minor": 5
}
